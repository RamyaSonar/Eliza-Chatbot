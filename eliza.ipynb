{
 "cells": [
  {
   "cell_type": "code",
   "execution_count": null,
   "metadata": {},
   "outputs": [],
   "source": [
    "#Import Library\n",
    "import re\n",
    "from nltk.chat.util import Chat, reflections "
   ]
  },
  {
   "cell_type": "code",
   "execution_count": null,
   "metadata": {},
   "outputs": [],
   "source": [
    "\n",
    "\n",
    "pairs = [\n",
    "    [r\"My name is (.*)\", \n",
    "        ['Hello %1, how may I help you?']],\n",
    "    ['(Hi|Hey|Hello)', \n",
    "        ['Hey there, my name is Dr. Eliza. What is your name?', \n",
    "         'Hello there, my name is Dr. Lartey. What is your name?', \n",
    "         'Hi there, my name is Eliza. What is your name?']],\n",
    "    ['Can you (.*)', \n",
    "        ['Why would you like to know%1?']],\n",
    "    ['I want to (.*)', \n",
    "        ['Why do you want to %1?']],\n",
    "    [\"I need(.*)\", \n",
    "        [\"Why do you need %1?\",\n",
    "         \"Would it be really helpful to you to get %1?\", \n",
    "         \"Are you sure you need %1?\"]],\n",
    "    [\"(Yes|No)\",\n",
    "        [\"Could you please elaborate?\"]], \n",
    "    [r\"Why don\\'?t you ([^\\?]*)\\??\",\n",
    "        [\"Why do you think I don't really %1?\", \n",
    "         \"Maybe I will eventually %1.\", \n",
    "         \"Do you really want me to %1?\"]],\n",
    "    [r\"(.*)\", \n",
    "        [\"Please tell me more.\",\n",
    "            \"Maybe we should change focus a bit... Tell me a bit about your family.\",\n",
    "            \"Can you elaborate on that?\",\n",
    "            \"Why do you say that %1?\",\n",
    "            \"I see.\",\n",
    "            \"Very interesting.\",\n",
    "            \"%1.\",\n",
    "            \"I see.  And what does that tell you?\",\n",
    "            \"How does that make you feel?\",\n",
    "            \"How do you feel when you say that?\"]],\n",
    "    [r'Why can\\'t I (.*)',[\"Do you think you should be able to %1?\",\n",
    "                          \"If you could %1, what would you do?\",\n",
    "                          \"I don't know -- why can't you %1?\",\n",
    "                          \"Have you really tried?\"]],\n",
    "    [r'quit', [\"Thank you for talking with me.\",\n",
    "              \"Good-bye.\",\n",
    "              \"Have a good day!\"]]\n",
    "          \n",
    "]"
   ]
  },
  {
   "cell_type": "code",
   "execution_count": 3,
   "metadata": {},
   "outputs": [
    {
     "data": {
      "text/plain": [
       "{'i am': 'you are',\n",
       " 'i was': 'you were',\n",
       " 'i': 'you',\n",
       " \"i'm\": 'you are',\n",
       " \"i'd\": 'you would',\n",
       " \"i've\": 'you have',\n",
       " \"i'll\": 'you will',\n",
       " 'my': 'your',\n",
       " 'you are': 'I am',\n",
       " 'you were': 'I was',\n",
       " \"you've\": 'I have',\n",
       " \"you'll\": 'I will',\n",
       " 'your': 'my',\n",
       " 'yours': 'mine',\n",
       " 'you': 'me',\n",
       " 'me': 'you'}"
      ]
     },
     "execution_count": 3,
     "metadata": {},
     "output_type": "execute_result"
    }
   ],
   "source": [
    "reflections"
   ]
  },
  {
   "cell_type": "code",
   "execution_count": 4,
   "metadata": {
    "scrolled": true
   },
   "outputs": [],
   "source": [
    "chat = Chat(pairs, reflections) #we need reflections in order to use Regex"
   ]
  },
  {
   "cell_type": "code",
   "execution_count": 6,
   "metadata": {},
   "outputs": [],
   "source": [
    "def hw1_chat():\n",
    "    print(\"Aliza Therapy Session\\n---------\")\n",
    "    print(\"Type in plain English\")\n",
    "    print('Enter \"quit\" when done.')\n",
    "    print('-' * 75)\n",
    "    \n",
    "    \n",
    "    chat.converse()"
   ]
  },
  {
   "cell_type": "code",
   "execution_count": 7,
   "metadata": {},
   "outputs": [],
   "source": [
    "def hw1():\n",
    "    hw1_chat()"
   ]
  },
  {
   "cell_type": "code",
   "execution_count": null,
   "metadata": {},
   "outputs": [
    {
     "name": "stdout",
     "output_type": "stream",
     "text": [
      "Aliza Therapy Session\n",
      "---------\n",
      "Type in plain English\n",
      "Enter \"quit\" when done.\n",
      "---------------------------------------------------------------------------\n",
      ">hi this is ramya\n",
      "Hi there, my name is Eliza. What is your name?\n",
      ">ramya\n",
      "How do you feel when you say that?\n",
      ">my name joe\n",
      "Maybe we should change focus a bit... Tell me a bit about your family.\n"
     ]
    }
   ],
   "source": [
    "if __name__ == \"__main__\":\n",
    "    hw1()"
   ]
  },
  {
   "cell_type": "code",
   "execution_count": null,
   "metadata": {},
   "outputs": [],
   "source": [
    "                            jie"
   ]
  },
  {
   "cell_type": "code",
   "execution_count": null,
   "metadata": {},
   "outputs": [],
   "source": []
  }
 ],
 "metadata": {
  "kernelspec": {
   "display_name": "Python 3",
   "language": "python",
   "name": "python3"
  },
  "language_info": {
   "codemirror_mode": {
    "name": "ipython",
    "version": 3
   },
   "file_extension": ".py",
   "mimetype": "text/x-python",
   "name": "python",
   "nbconvert_exporter": "python",
   "pygments_lexer": "ipython3",
   "version": "3.7.3"
  }
 },
 "nbformat": 4,
 "nbformat_minor": 2
}
